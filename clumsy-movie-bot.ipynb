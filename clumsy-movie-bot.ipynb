{
 "cells": [
  {
   "cell_type": "markdown",
   "metadata": {},
   "source": [
    "## Dependencies"
   ]
  },
  {
   "cell_type": "code",
   "execution_count": 129,
   "metadata": {},
   "outputs": [],
   "source": [
    "import discord\n",
    "from discord.ext import commands\n",
    "\n",
    "import pandas as pd\n",
    "import numpy as np\n",
    "import matplotlib.pyplot as plt\n",
    "from matplotlib import rcParams\n",
    "import math\n",
    "\n",
    "from datetime import datetime, timedelta  \n",
    "import io\n",
    "import os\n",
    "\n",
    "# Load necessary tokens and IDs from .env file (not included in repository)\n",
    "from dotenv import load_dotenv\n",
    "_ = load_dotenv()"
   ]
  },
  {
   "cell_type": "markdown",
   "metadata": {},
   "source": [
    "## Bot Setup"
   ]
  },
  {
   "cell_type": "code",
   "execution_count": 130,
   "metadata": {},
   "outputs": [],
   "source": [
    "# All commands for bot will be prefixed with a period (e.g. '.help')\n",
    "client = commands.Bot(command_prefix = '.')\n",
    "\n",
    "# Running list of winning movie titles for the current week\n",
    "titles = []\n",
    "\n",
    "token = os.environ[\"DISCORD_TOKEN\"]\n",
    "channel_ID = int(os.environ[\"DISCORD_CHANNEL\"])"
   ]
  },
  {
   "cell_type": "code",
   "execution_count": 131,
   "metadata": {},
   "outputs": [],
   "source": [
    "# Message bot will print to console when it is connected and ready to receive commands\n",
    "@client.event \n",
    "async def on_ready():\n",
    "    print('Bot is ready. Use kill command to log bot out.')"
   ]
  },
  {
   "cell_type": "markdown",
   "metadata": {},
   "source": [
    "## Available Commands"
   ]
  },
  {
   "cell_type": "code",
   "execution_count": 132,
   "metadata": {},
   "outputs": [],
   "source": [
    "client.remove_command(\"tally\")\n",
    "@client.command(brief='Tally votes', description='Generates a bar chart of votes for all movies that received at least one reaction since last Saturday at 9:30 (UTC time)')\n",
    "async def tally(ctx):\n",
    "    await ctx.send(\"Tabulating votes...\")\n",
    "    \n",
    "    channel = client.get_channel(channel_ID)\n",
    "    \n",
    "    # Votes should be pulled from the most recent Saturday at 9:30 EST\n",
    "    \n",
    "    today = datetime.utcnow()\n",
    "    idx = (today.weekday() + 1) % 7\n",
    "    lastSaturday = today - timedelta(7+idx-6)\n",
    "    lastSaturday = lastSaturday.replace(hour=21, minute=30, second = 0)\n",
    "    \n",
    "    \n",
    "    # Add movies and number of reactions (i.e. votes) and sort in descending order\n",
    "    \n",
    "    votes = []\n",
    "    \n",
    "    async for message in channel.history(after=lastSaturday):\n",
    "        if len(message.reactions) > 0 and message.content not in titles:\n",
    "            votes.append((message.content, len(message.reactions)))\n",
    "            \n",
    "    votes = pd.DataFrame.from_records(np.array(votes), columns = ['Movie', 'Number of Votes'])\n",
    "    votes[\"Number of Votes\"] = pd.to_numeric(votes[\"Number of Votes\"])\n",
    "    votes.sort_values(by = \"Number of Votes\", ascending = False, inplace = True)\n",
    "    \n",
    "    # Create horizontal bar chart of movie rankings\n",
    "    \n",
    "    rcParams.update({'figure.autolayout': True})\n",
    "    rcParams.update({'figure.figsize': [16,9]})\n",
    "    \n",
    "    fig, ax = plt.subplots()\n",
    "\n",
    "    movies = votes[\"Movie\"]\n",
    "    movies_range = np.arange(len(movies))\n",
    "    ranking = votes[\"Number of Votes\"]\n",
    "\n",
    "    ax.barh(movies_range, ranking, align='center')\n",
    "    ax.set_yticks(movies_range)\n",
    "    ax.set_yticklabels(movies)\n",
    "    ax.set_xticks(np.arange(math.ceil(max(ranking))+1))\n",
    "    ax.invert_yaxis()  # labels read top-to-bottom\n",
    "    ax.set_xlabel('Number of Votes')\n",
    "    ax.set_title('Clumsy Movie Ranking')\n",
    "\n",
    "    # Save figure locally and then embed into message \n",
    "    \n",
    "    fig.savefig('discord-images/graph.png')\n",
    "    \n",
    "    with open('discord-images/graph.png', 'rb') as f:\n",
    "        file = io.BytesIO(f.read())    \n",
    "    \n",
    "    image = discord.File(file, filename='graph.png')\n",
    "    embed = discord.Embed(title = \"Votes as of \" + datetime.now().strftime(\"%m/%d/%Y, %H:%M:%S\"))\n",
    "    embed.set_image(url=f'attachment://graph.png')\n",
    "    \n",
    "    await ctx.send(\"Votes:\\n\")\n",
    "    await ctx.send(file=image, embed=embed)  \n"
   ]
  },
  {
   "cell_type": "code",
   "execution_count": 133,
   "metadata": {},
   "outputs": [],
   "source": [
    "client.remove_command(\"wheel\")\n",
    "@client.command(brief='Prepare votes for the wheel', description='Generates a list for all movies that received at least one reaction since last Saturday at 9:30 (UTC time). Movie titles are duplicated according to number of votes.')\n",
    "async def wheel(ctx):\n",
    "\n",
    "    channel = client.get_channel(channel_ID)\n",
    "\n",
    "    # Votes should be pulled from the most recent Saturday at 9:30 EST    \n",
    "    \n",
    "    today = datetime.utcnow()\n",
    "    idx = (today.weekday() + 1) % 7\n",
    "    lastSaturday = today - timedelta(7+idx-6)\n",
    "    lastSaturday = lastSaturday.replace(hour=21, minute=30, second = 0)\n",
    "\n",
    "    # Create a text list of all movie titles, copied according to number of votes\n",
    "    \n",
    "    wheel_list = \"\"\n",
    "    \n",
    "    async for message in channel.history(after=lastSaturday):\n",
    "        if len(message.reactions) > 0 and message.content not in titles:\n",
    "            wheel_list = wheel_list + (message.content + \"\\n\") * len(message.reactions)\n",
    "             \n",
    "    await ctx.send(\"Wheel List:\\n\")\n",
    "    await ctx.send(wheel_list)    "
   ]
  },
  {
   "cell_type": "code",
   "execution_count": 134,
   "metadata": {},
   "outputs": [],
   "source": [
    "client.remove_command(\"kill\")\n",
    "@client.command(brief='Force logout for bot', description='Forces the bot to logoff Discord. Convenience function to interrupt process from jupyter notebook')\n",
    "async def kill(ctx):\n",
    "    await ctx.send(\"Thank you for using Clumsy Movie Bot. Goodbye.\")\n",
    "    \n",
    "    # Log bot out of Discord\n",
    "    await client.logout()\n",
    "    \n",
    "    # Clear internal cache of bot and prepare it to be reopened if necessary\n",
    "    client.clear()"
   ]
  },
  {
   "cell_type": "code",
   "execution_count": 135,
   "metadata": {},
   "outputs": [],
   "source": [
    "client.remove_command(\"purge\")\n",
    "@client.command(brief='Delete all messages', description='Removes last 1000 messages before current datetime (UTC)')\n",
    "async def purge(ctx):\n",
    "    channel = client.get_channel(channel_ID)\n",
    "    \n",
    "    # Removes the last 1000 messages in channel\n",
    "    await channel.purge(limit = 1000, before = datetime.utcnow() + timedelta(1))"
   ]
  },
  {
   "cell_type": "code",
   "execution_count": 136,
   "metadata": {},
   "outputs": [],
   "source": [
    "client.remove_command(\"samples\")\n",
    "@client.command(brief='Print 5 sample movies', description='Prints 5 seperate messages with a movie name. Reactions should be added to movie title to register vote.')\n",
    "async def samples(ctx):\n",
    "    \n",
    "    # Create sample movie nominations with emoji reactions to simulate votes\n",
    "    \n",
    "    m1 = await ctx.send(\"Lair of the White Worm\") \n",
    "    m2 = await ctx.send(\"Hausu\") \n",
    "    m3 = await ctx.send(\"Hackers\") \n",
    "    m4 = await ctx.send(\"Earth Girls are Easy\") \n",
    "    m5 = await ctx.send(\"50 Shades Darker\") \n",
    "    \n",
    "    await m1.add_reaction('\\U0001f44d')\n",
    "    await m2.add_reaction('\\U0001f44d')\n",
    "    await m3.add_reaction('\\U0001f44d')\n",
    "    await m4.add_reaction('\\U0001f44d')\n",
    "    await m5.add_reaction('\\U0001f44d')\n",
    "    \n",
    "    await m4.add_reaction('\\U0001f600')\n",
    "    await m5.add_reaction('\\U0001f600')\n",
    "    \n",
    "    await m4.add_reaction('\\U0001f603')"
   ]
  },
  {
   "cell_type": "code",
   "execution_count": 137,
   "metadata": {},
   "outputs": [],
   "source": [
    "client.remove_command(\"winner\")\n",
    "@client.command(brief='Added winning movie to winner list', description='Add winning movie for the current week to list of winners. Run prior to rollover function.')\n",
    "async def winner(ctx, *, title: str):\n",
    "    \n",
    "    titles.append(title)\n",
    "    await ctx.send(\"Added winner: \" + title)"
   ]
  },
  {
   "cell_type": "code",
   "execution_count": 138,
   "metadata": {},
   "outputs": [],
   "source": [
    "client.remove_command(\"winner_list\")\n",
    "@client.command(brief='List winners', description='')\n",
    "async def winner_list(ctx):\n",
    "    \n",
    "    await ctx.send(titles)"
   ]
  },
  {
   "cell_type": "code",
   "execution_count": 142,
   "metadata": {},
   "outputs": [],
   "source": [
    "client.remove_command(\"rollover\")\n",
    "@client.command(brief='Create a rollover list', description='Create a rollover list for the next week, with movies that have at least 1 vote. NOTE: Add winners to winner list first with winner command')\n",
    "async def rollover(ctx):\n",
    "    \n",
    "    await ctx.send(\"Next Week on the Wheel:\")\n",
    "    \n",
    "    channel = client.get_channel(channel_ID)\n",
    "    \n",
    "    # Votes should be pulled from the most recent Saturday at 9:30 EST\n",
    "    \n",
    "    today = datetime.utcnow()\n",
    "    idx = (today.weekday() + 1) % 7\n",
    "    lastSaturday = today - timedelta(7+idx-6)\n",
    "    lastSaturday = lastSaturday.replace(hour=21, minute=30, second = 0)    \n",
    "    \n",
    "    async for message in channel.history(after=lastSaturday):\n",
    "        if len(message.reactions) > 0 and message.content not in titles:\n",
    "            await ctx.send(message.content)  "
   ]
  },
  {
   "cell_type": "markdown",
   "metadata": {},
   "source": [
    "## Connect Bot to Discord Server"
   ]
  },
  {
   "cell_type": "markdown",
   "metadata": {},
   "source": [
    "If bot has not connected since computer startup, connect to discord:"
   ]
  },
  {
   "cell_type": "code",
   "execution_count": 139,
   "metadata": {},
   "outputs": [],
   "source": [
    "await client.login(token, bot = True)"
   ]
  },
  {
   "cell_type": "markdown",
   "metadata": {},
   "source": [
    "Connect bot to receive commands. Process will continue to run until interrupted in discord with **.kill** command"
   ]
  },
  {
   "cell_type": "code",
   "execution_count": null,
   "metadata": {},
   "outputs": [
    {
     "name": "stdout",
     "output_type": "stream",
     "text": [
      "Bot is ready. Use kill command to log bot out.\n"
     ]
    }
   ],
   "source": [
    "await client.connect(reconnect = True)"
   ]
  },
  {
   "cell_type": "code",
   "execution_count": 143,
   "metadata": {},
   "outputs": [],
   "source": [
    "titles = []"
   ]
  },
  {
   "cell_type": "code",
   "execution_count": null,
   "metadata": {},
   "outputs": [],
   "source": []
  }
 ],
 "metadata": {
  "kernelspec": {
   "display_name": "Python 3",
   "language": "python",
   "name": "python3"
  },
  "language_info": {
   "codemirror_mode": {
    "name": "ipython",
    "version": 3
   },
   "file_extension": ".py",
   "mimetype": "text/x-python",
   "name": "python",
   "nbconvert_exporter": "python",
   "pygments_lexer": "ipython3",
   "version": "3.6.8"
  }
 },
 "nbformat": 4,
 "nbformat_minor": 2
}
